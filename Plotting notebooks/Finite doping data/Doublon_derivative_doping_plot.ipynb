{
 "cells": [
  {
   "cell_type": "code",
   "execution_count": 8,
   "id": "dcdc8151",
   "metadata": {},
   "outputs": [],
   "source": [
    "import numpy as np\n",
    "import matplotlib.pyplot as plt\n",
    "import matplotlib as mpl\n",
    "import matplotlib.pyplot as plt\n",
    "import os\n",
    "import sys\n",
    "from scipy.interpolate import griddata\n",
    "from mpl_toolkits.axes_grid1 import make_axes_locatable\n",
    "import matplotlib.colorbar\n",
    "from matplotlib import rc\n",
    "from scipy.optimize import fsolve\n",
    "from scipy.integrate import simpson\n",
    "from numpy import trapz\n",
    "from numpy.polynomial.polynomial import polyfit\n",
    "from scipy import integrate\n",
    "mpl.rcParams['axes.linewidth'] = 3\n",
    "import matplotlib as mpl  \n",
    "\n",
    "plt.rcParams[\"font.family\"] = \"Times New Roman\"\n"
   ]
  },
  {
   "cell_type": "code",
   "execution_count": 12,
   "id": "d03c9b53",
   "metadata": {},
   "outputs": [],
   "source": [
    "def doublon_contour_plots(Text_dir_doublon,Graph_dir,N,U,dtau,trot):\n",
    "    \n",
    "    filename_doublon = \"%s/Text_files_N_%s_U_%s_dtau_%s/Doublon_data_N_%s_U_%s_dtau_%s_L_%s.dat\"%(Text_dir_doublon,N,U[0],dtau,N,U[0],dtau,trot)\n",
    "    nden,db,db_std = np.loadtxt(filename_doublon,unpack = 'True',usecols = [1,5,6])\n",
    "        \n",
    "    dD_dT = np.zeros(len(nden)*(len(U)))      #dkappa_dT.tolist()\n",
    "    dD_dT_std = np.zeros(len(nden)*(len(U)))  #dkappa_dT_std.tolist()\n",
    "    U_val = np.zeros(len(nden)*(len(U)))      #T.tolist()\n",
    "    Nden = np.zeros(len(nden)*(len(U)))      #[float(U[0])*x for x in [1]*len(Trot)]\n",
    "    n_len = len(nden)\n",
    "\n",
    "    for k in range(len(U)):\n",
    "        #print(\"Trot\",Trot[k])\n",
    "        start_ind = k*n_len\n",
    "        end_ind = (k+1)*n_len\n",
    "        filename_doublon = \"%s/Text_files_N_%s_U_%s_dtau_%s/Doublon_data_N_%s_U_%s_dtau_%s_L_%s.dat\"%(Text_dir_doublon,N,U[k],dtau,N,U[k],dtau,trot)\n",
    "        num_den,db,db_std = np.loadtxt(filename_doublon,unpack = 'True',usecols = [1,5,6])\n",
    "        Nden[start_ind:end_ind] = np.copy(num_den)\n",
    "        dD_dT[start_ind:end_ind] = np.copy(db)\n",
    "        dD_dT_std[start_ind:end_ind] = np.copy(db_std) #-0.25*np.power(num_den,2)\n",
    "        U_val[start_ind:end_ind] = float(U[k])*np.ones(len(nden))\n",
    "\n",
    "    #print(T_val)\n",
    "    N_grid = np.linspace(np.nanmin(Nden),np.nanmax(Nden),num = 2*n_len+1)\n",
    "    U_grid = np.linspace(np.nanmin(U_val),np.nanmax(U_val),num=2*(len(U)-2)+1)\n",
    "    N_mesh,U_mesh = np.meshgrid(N_grid,U_grid,indexing = 'xy')\n",
    "    grid_d_c = griddata(np.stack((Nden,U_val),axis=1),dD_dT,(N_mesh,U_mesh),method = 'cubic')\n",
    "    cm = matplotlib.colormaps.get_cmap('seismic')\n",
    "\n",
    "\n",
    "    x =  [1.00025598, 1.01911849, 1.02814563, 1.037981,1.05242246, 1.05684351, 1.06216469, 1.06639886, 1.06462619, 1.06394055,1.06252343, 1.05838936, 1.05879009, 1.0587525,  1.05720948, 1.05684351,1.05362816, 1.04951315, 1.04681331, 1.04503918]\n",
    "    y =  [3.81093802, 3.85029121, 3.90909091, 3.98976572, 4.27272727, 4.40826698, 4.63636364, 5.0, 5.36363636, 5.72727273, 6.09090909,6.45454545,6.81818182,7.18181818,7.54545455,7.60445839,7.90909091,8.27272727,8.63636364,9.0]    \n",
    "    \n",
    "\n",
    "    plt.figure(figsize = (28,20))\n",
    "    ax = plt.gca()\n",
    "    plt.xticks([1.0,1.10,1.20,1.30,1.40],fontsize = 100)\n",
    "    plt.yticks([2,4,6,8,10],fontsize = 100)\n",
    "    plt.tick_params(axis='both', which='major', direction='out', pad=20,length = 30, width = 2.5,labelsize = 120)\n",
    "    plt.tick_params(axis='both', which='minor', direction='out', pad=20,length = 15, width = 1.5,labelsize = 60)\n",
    "    im = plt.contourf(N_mesh,U_mesh,grid_d_c,np.arange(-0.05, 0.05, .0025),extend='both',cmap = cm)\n",
    "    plt.plot(x,y, color = 'yellow', linestyle = 'dashed', linewidth = 18)\n",
    "    plt.xlim(1.0,1.4)\n",
    "    plt.ylim(0.0,7.8)\n",
    "    plt.grid(color='white', alpha=0.5, which='both')\n",
    "    CS_2 = ax.contour(N_mesh,U_mesh,grid_d_c, [0.0], colors = ['black'], linestyles = ['dashdot'],linewidths = [5])\n",
    "    divider = make_axes_locatable(ax)\n",
    "    cax = divider.append_axes(\"right\", size=\"5%\", pad=0.05)\n",
    "    cbar = plt.colorbar(im, cax= cax)\n",
    "    cbar.set_ticks(np.linspace(-0.05, 0.05, 6)) \n",
    "    cbar.ax.tick_params(labelsize = 70)\n",
    "\n",
    "    plt.tight_layout()    \n",
    " \n",
    "    plt.savefig(\"%s/Doublon_derivative_N_%s_dtau_%s_L_%s.png\"%(Graph_dir,N,dtau,trot))\n",
    "    #plt.close()\n",
    "\n",
    "    \n",
    "    dat0= CS_2.allsegs[0][0]\n",
    "    plt.figure()\n",
    "    plt.plot(dat0[:,0],dat0[:,1])\n",
    "    plt.show()\n",
    "    print(\"x\",dat0[:,0])\n",
    "    print(\"y\",dat0[:,1])\n",
    "\n",
    "\n"
   ]
  },
  {
   "cell_type": "code",
   "execution_count": 19,
   "id": "207c1434",
   "metadata": {},
   "outputs": [],
   "source": [
    "def main():\n",
    "\n",
    "    N = \"10\"\n",
    "    Dtau = \"0.05\"\n",
    "\n",
    "    U=[\"0.00\",\"1.0\",\"2.0\",\"3.0\",\"4.00\",\"5.0\",\"6.00\",\"7.0\",\"8.00\",\"9.0\"]\n",
    "    Mu = [\"-0.20\",\"0.00\",\"0.20\",\"0.40\",\"0.60\",\"0.80\",\"1.00\",\"1.20\",\"1.40\",\"1.60\",\"1.80\",\"2.00\",\"2.20\",\"2.40\",\"2.60\",\"2.80\",\"3.00\",\"3.20\",\"3.40\",\"3.60\",\"3.80\",\"4.00\",\"4.50\",\"5.00\",\"5.50\",\"6.00\",\"6.50\",\"7.00\",\n",
    "          \"7.50\",\"8.00\",\"8.50\",\"9.00\",\"9.50\",\"10.00\"]\n",
    "    Trot = [\"30\"] \n",
    "    Text_dir_main = '/Users/roy.369/Documents/Cold_atom_correlators/FHM_Legacy_data/FHM_Roy_data/Text_files/Text_files_N_%s_doublon_number'%N\n",
    "\n",
    "    Graph_dir = '/Users/roy.369/Documents/Cold_atom_correlators/FHM_Legacy_data/FHM_Roy_data/Graphs/Graphs_N_%s/Graphs_N_%s_dtau_%s_doublon'%(N,N,Dtau)\n",
    "    if not os.path.exists(Graph_dir):\n",
    "        os.makedirs(Graph_dir)\n",
    "\n",
    "    for k in range(len(Trot)):\n",
    "        doublon_contour_plots(Text_dir_main,Graph_dir,N,U,Dtau,Trot[k])\n",
    "    \n",
    "\n"
   ]
  },
  {
   "cell_type": "code",
   "execution_count": 20,
   "id": "6368f550",
   "metadata": {
    "scrolled": true
   },
   "outputs": [
    {
     "ename": "FileNotFoundError",
     "evalue": "/Users/roy.369/Documents/Cold_atom_correlators/FHM_Legacy_data/FHM_Roy_data/Text_files/Text_files_N_10_doublon_number/Text_files_N_10_U_0.00_dtau_0.05/Doublon_data_N_10_U_0.00_dtau_0.05_L_30.dat not found.",
     "output_type": "error",
     "traceback": [
      "\u001b[0;31m---------------------------------------------------------------------------\u001b[0m",
      "\u001b[0;31mFileNotFoundError\u001b[0m                         Traceback (most recent call last)",
      "Cell \u001b[0;32mIn[20], line 1\u001b[0m\n\u001b[0;32m----> 1\u001b[0m main()\n",
      "Cell \u001b[0;32mIn[19], line 17\u001b[0m, in \u001b[0;36mmain\u001b[0;34m()\u001b[0m\n\u001b[1;32m     14\u001b[0m     os\u001b[38;5;241m.\u001b[39mmakedirs(Graph_dir)\n\u001b[1;32m     16\u001b[0m \u001b[38;5;28;01mfor\u001b[39;00m k \u001b[38;5;129;01min\u001b[39;00m \u001b[38;5;28mrange\u001b[39m(\u001b[38;5;28mlen\u001b[39m(Trot)):\n\u001b[0;32m---> 17\u001b[0m     doublon_contour_plots(Text_dir_main,Graph_dir,N,U,Dtau,Trot[k])\n",
      "Cell \u001b[0;32mIn[12], line 4\u001b[0m, in \u001b[0;36mdoublon_contour_plots\u001b[0;34m(Text_dir_doublon, Graph_dir, N, U, dtau, trot)\u001b[0m\n\u001b[1;32m      1\u001b[0m \u001b[38;5;28;01mdef\u001b[39;00m \u001b[38;5;21mdoublon_contour_plots\u001b[39m(Text_dir_doublon,Graph_dir,N,U,dtau,trot):\n\u001b[1;32m      3\u001b[0m     filename_doublon \u001b[38;5;241m=\u001b[39m \u001b[38;5;124m\"\u001b[39m\u001b[38;5;132;01m%s\u001b[39;00m\u001b[38;5;124m/Text_files_N_\u001b[39m\u001b[38;5;132;01m%s\u001b[39;00m\u001b[38;5;124m_U_\u001b[39m\u001b[38;5;132;01m%s\u001b[39;00m\u001b[38;5;124m_dtau_\u001b[39m\u001b[38;5;132;01m%s\u001b[39;00m\u001b[38;5;124m/Doublon_data_N_\u001b[39m\u001b[38;5;132;01m%s\u001b[39;00m\u001b[38;5;124m_U_\u001b[39m\u001b[38;5;132;01m%s\u001b[39;00m\u001b[38;5;124m_dtau_\u001b[39m\u001b[38;5;132;01m%s\u001b[39;00m\u001b[38;5;124m_L_\u001b[39m\u001b[38;5;132;01m%s\u001b[39;00m\u001b[38;5;124m.dat\u001b[39m\u001b[38;5;124m\"\u001b[39m\u001b[38;5;241m%\u001b[39m(Text_dir_doublon,N,U[\u001b[38;5;241m0\u001b[39m],dtau,N,U[\u001b[38;5;241m0\u001b[39m],dtau,trot)\n\u001b[0;32m----> 4\u001b[0m     nden,db,db_std \u001b[38;5;241m=\u001b[39m np\u001b[38;5;241m.\u001b[39mloadtxt(filename_doublon,unpack \u001b[38;5;241m=\u001b[39m \u001b[38;5;124m'\u001b[39m\u001b[38;5;124mTrue\u001b[39m\u001b[38;5;124m'\u001b[39m,usecols \u001b[38;5;241m=\u001b[39m [\u001b[38;5;241m1\u001b[39m,\u001b[38;5;241m5\u001b[39m,\u001b[38;5;241m6\u001b[39m])\n\u001b[1;32m      6\u001b[0m     dD_dT \u001b[38;5;241m=\u001b[39m np\u001b[38;5;241m.\u001b[39mzeros(\u001b[38;5;28mlen\u001b[39m(nden)\u001b[38;5;241m*\u001b[39m(\u001b[38;5;28mlen\u001b[39m(U)))      \u001b[38;5;66;03m#dkappa_dT.tolist()\u001b[39;00m\n\u001b[1;32m      7\u001b[0m     dD_dT_std \u001b[38;5;241m=\u001b[39m np\u001b[38;5;241m.\u001b[39mzeros(\u001b[38;5;28mlen\u001b[39m(nden)\u001b[38;5;241m*\u001b[39m(\u001b[38;5;28mlen\u001b[39m(U)))  \u001b[38;5;66;03m#dkappa_dT_std.tolist()\u001b[39;00m\n",
      "File \u001b[0;32m/opt/anaconda3/lib/python3.11/site-packages/numpy/lib/npyio.py:1373\u001b[0m, in \u001b[0;36mloadtxt\u001b[0;34m(fname, dtype, comments, delimiter, converters, skiprows, usecols, unpack, ndmin, encoding, max_rows, quotechar, like)\u001b[0m\n\u001b[1;32m   1370\u001b[0m \u001b[38;5;28;01mif\u001b[39;00m \u001b[38;5;28misinstance\u001b[39m(delimiter, \u001b[38;5;28mbytes\u001b[39m):\n\u001b[1;32m   1371\u001b[0m     delimiter \u001b[38;5;241m=\u001b[39m delimiter\u001b[38;5;241m.\u001b[39mdecode(\u001b[38;5;124m'\u001b[39m\u001b[38;5;124mlatin1\u001b[39m\u001b[38;5;124m'\u001b[39m)\n\u001b[0;32m-> 1373\u001b[0m arr \u001b[38;5;241m=\u001b[39m _read(fname, dtype\u001b[38;5;241m=\u001b[39mdtype, comment\u001b[38;5;241m=\u001b[39mcomment, delimiter\u001b[38;5;241m=\u001b[39mdelimiter,\n\u001b[1;32m   1374\u001b[0m             converters\u001b[38;5;241m=\u001b[39mconverters, skiplines\u001b[38;5;241m=\u001b[39mskiprows, usecols\u001b[38;5;241m=\u001b[39musecols,\n\u001b[1;32m   1375\u001b[0m             unpack\u001b[38;5;241m=\u001b[39munpack, ndmin\u001b[38;5;241m=\u001b[39mndmin, encoding\u001b[38;5;241m=\u001b[39mencoding,\n\u001b[1;32m   1376\u001b[0m             max_rows\u001b[38;5;241m=\u001b[39mmax_rows, quote\u001b[38;5;241m=\u001b[39mquotechar)\n\u001b[1;32m   1378\u001b[0m \u001b[38;5;28;01mreturn\u001b[39;00m arr\n",
      "File \u001b[0;32m/opt/anaconda3/lib/python3.11/site-packages/numpy/lib/npyio.py:992\u001b[0m, in \u001b[0;36m_read\u001b[0;34m(fname, delimiter, comment, quote, imaginary_unit, usecols, skiplines, max_rows, converters, ndmin, unpack, dtype, encoding)\u001b[0m\n\u001b[1;32m    990\u001b[0m     fname \u001b[38;5;241m=\u001b[39m os\u001b[38;5;241m.\u001b[39mfspath(fname)\n\u001b[1;32m    991\u001b[0m \u001b[38;5;28;01mif\u001b[39;00m \u001b[38;5;28misinstance\u001b[39m(fname, \u001b[38;5;28mstr\u001b[39m):\n\u001b[0;32m--> 992\u001b[0m     fh \u001b[38;5;241m=\u001b[39m np\u001b[38;5;241m.\u001b[39mlib\u001b[38;5;241m.\u001b[39m_datasource\u001b[38;5;241m.\u001b[39mopen(fname, \u001b[38;5;124m'\u001b[39m\u001b[38;5;124mrt\u001b[39m\u001b[38;5;124m'\u001b[39m, encoding\u001b[38;5;241m=\u001b[39mencoding)\n\u001b[1;32m    993\u001b[0m     \u001b[38;5;28;01mif\u001b[39;00m encoding \u001b[38;5;129;01mis\u001b[39;00m \u001b[38;5;28;01mNone\u001b[39;00m:\n\u001b[1;32m    994\u001b[0m         encoding \u001b[38;5;241m=\u001b[39m \u001b[38;5;28mgetattr\u001b[39m(fh, \u001b[38;5;124m'\u001b[39m\u001b[38;5;124mencoding\u001b[39m\u001b[38;5;124m'\u001b[39m, \u001b[38;5;124m'\u001b[39m\u001b[38;5;124mlatin1\u001b[39m\u001b[38;5;124m'\u001b[39m)\n",
      "File \u001b[0;32m/opt/anaconda3/lib/python3.11/site-packages/numpy/lib/_datasource.py:193\u001b[0m, in \u001b[0;36mopen\u001b[0;34m(path, mode, destpath, encoding, newline)\u001b[0m\n\u001b[1;32m    156\u001b[0m \u001b[38;5;250m\u001b[39m\u001b[38;5;124;03m\"\"\"\u001b[39;00m\n\u001b[1;32m    157\u001b[0m \u001b[38;5;124;03mOpen `path` with `mode` and return the file object.\u001b[39;00m\n\u001b[1;32m    158\u001b[0m \n\u001b[0;32m   (...)\u001b[0m\n\u001b[1;32m    189\u001b[0m \n\u001b[1;32m    190\u001b[0m \u001b[38;5;124;03m\"\"\"\u001b[39;00m\n\u001b[1;32m    192\u001b[0m ds \u001b[38;5;241m=\u001b[39m DataSource(destpath)\n\u001b[0;32m--> 193\u001b[0m \u001b[38;5;28;01mreturn\u001b[39;00m ds\u001b[38;5;241m.\u001b[39mopen(path, mode, encoding\u001b[38;5;241m=\u001b[39mencoding, newline\u001b[38;5;241m=\u001b[39mnewline)\n",
      "File \u001b[0;32m/opt/anaconda3/lib/python3.11/site-packages/numpy/lib/_datasource.py:533\u001b[0m, in \u001b[0;36mDataSource.open\u001b[0;34m(self, path, mode, encoding, newline)\u001b[0m\n\u001b[1;32m    530\u001b[0m     \u001b[38;5;28;01mreturn\u001b[39;00m _file_openers[ext](found, mode\u001b[38;5;241m=\u001b[39mmode,\n\u001b[1;32m    531\u001b[0m                               encoding\u001b[38;5;241m=\u001b[39mencoding, newline\u001b[38;5;241m=\u001b[39mnewline)\n\u001b[1;32m    532\u001b[0m \u001b[38;5;28;01melse\u001b[39;00m:\n\u001b[0;32m--> 533\u001b[0m     \u001b[38;5;28;01mraise\u001b[39;00m \u001b[38;5;167;01mFileNotFoundError\u001b[39;00m(\u001b[38;5;124mf\u001b[39m\u001b[38;5;124m\"\u001b[39m\u001b[38;5;132;01m{\u001b[39;00mpath\u001b[38;5;132;01m}\u001b[39;00m\u001b[38;5;124m not found.\u001b[39m\u001b[38;5;124m\"\u001b[39m)\n",
      "\u001b[0;31mFileNotFoundError\u001b[0m: /Users/roy.369/Documents/Cold_atom_correlators/FHM_Legacy_data/FHM_Roy_data/Text_files/Text_files_N_10_doublon_number/Text_files_N_10_U_0.00_dtau_0.05/Doublon_data_N_10_U_0.00_dtau_0.05_L_30.dat not found."
     ]
    }
   ],
   "source": [
    "main()"
   ]
  },
  {
   "cell_type": "code",
   "execution_count": null,
   "id": "41efbc56-4f81-4f9b-80a6-d7cb0c57d551",
   "metadata": {},
   "outputs": [],
   "source": []
  },
  {
   "cell_type": "code",
   "execution_count": null,
   "id": "62db78d7-0d5a-403d-a7ed-e9be0d94fdf9",
   "metadata": {},
   "outputs": [],
   "source": []
  },
  {
   "cell_type": "code",
   "execution_count": null,
   "id": "6d8093c1-86fd-4e9c-88f0-020bb3d71ec3",
   "metadata": {},
   "outputs": [],
   "source": []
  }
 ],
 "metadata": {
  "kernelspec": {
   "display_name": "Python 3 (ipykernel)",
   "language": "python",
   "name": "python3"
  },
  "language_info": {
   "codemirror_mode": {
    "name": "ipython",
    "version": 3
   },
   "file_extension": ".py",
   "mimetype": "text/x-python",
   "name": "python",
   "nbconvert_exporter": "python",
   "pygments_lexer": "ipython3",
   "version": "3.11.7"
  }
 },
 "nbformat": 4,
 "nbformat_minor": 5
}
