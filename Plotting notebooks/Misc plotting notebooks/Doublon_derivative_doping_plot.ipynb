{
 "cells": [
  {
   "cell_type": "code",
   "execution_count": 1,
   "id": "dcdc8151",
   "metadata": {},
   "outputs": [],
   "source": [
    "import numpy as np\n",
    "import matplotlib.pyplot as plt\n",
    "import matplotlib as mpl\n",
    "import matplotlib.pyplot as plt\n",
    "import os\n",
    "import sys\n",
    "from scipy.interpolate import griddata\n",
    "from mpl_toolkits.axes_grid1 import make_axes_locatable\n",
    "import matplotlib.colorbar\n",
    "from matplotlib import rc\n",
    "from scipy.optimize import fsolve\n",
    "from scipy.integrate import simpson\n",
    "from numpy import trapz\n",
    "from numpy.polynomial.polynomial import polyfit\n",
    "from scipy import integrate\n",
    "mpl.rcParams['axes.linewidth'] = 3\n",
    "import matplotlib as mpl  \n",
    "\n",
    "plt.rcParams[\"font.family\"] = \"Times New Roman\"\n"
   ]
  },
  {
   "cell_type": "code",
   "execution_count": 2,
   "id": "d03c9b53",
   "metadata": {},
   "outputs": [],
   "source": [
    "def doublon_contour_plots(Text_dir_doublon,Graph_dir,N,U,dtau,trot):\n",
    "    \n",
    "    filename_doublon = \"%s/Text_files_N_%s_U_%s_dtau_%s/Doublon_data_N_%s_U_%s_dtau_%s_L_%s.dat\"%(Text_dir_doublon,N,U[0],dtau,N,U[0],dtau,trot)\n",
    "    nden,db,db_std = np.loadtxt(filename_doublon,unpack = 'True',usecols = [1,5,6])\n",
    "        \n",
    "    dD_dT = np.zeros(len(nden)*(len(U)))      #dkappa_dT.tolist()\n",
    "    dD_dT_std = np.zeros(len(nden)*(len(U)))  #dkappa_dT_std.tolist()\n",
    "    U_val = np.zeros(len(nden)*(len(U)))      #T.tolist()\n",
    "    Nden = np.zeros(len(nden)*(len(U)))      #[float(U[0])*x for x in [1]*len(Trot)]\n",
    "    n_len = len(nden)\n",
    "\n",
    "    for k in range(len(U)):\n",
    "        #print(\"Trot\",Trot[k])\n",
    "        start_ind = k*n_len\n",
    "        end_ind = (k+1)*n_len\n",
    "        filename_doublon = \"%s/Text_files_N_%s_U_%s_dtau_%s/Doublon_data_N_%s_U_%s_dtau_%s_L_%s.dat\"%(Text_dir_doublon,N,U[k],dtau,N,U[k],dtau,trot)\n",
    "        num_den,db,db_std = np.loadtxt(filename_doublon,unpack = 'True',usecols = [1,5,6])\n",
    "        Nden[start_ind:end_ind] = np.copy(num_den)\n",
    "        dD_dT[start_ind:end_ind] = np.copy(db)\n",
    "        dD_dT_std[start_ind:end_ind] = np.copy(db_std) #-0.25*np.power(num_den,2)\n",
    "        U_val[start_ind:end_ind] = float(U[k])*np.ones(len(nden))\n",
    "\n",
    "    #print(T_val)\n",
    "    N_grid = np.linspace(np.nanmin(Nden),np.nanmax(Nden),num = 2*n_len+1)\n",
    "    U_grid = np.linspace(np.nanmin(U_val),np.nanmax(U_val),num=2*(len(U)-2)+1)\n",
    "    N_mesh,U_mesh = np.meshgrid(N_grid,U_grid,indexing = 'xy')\n",
    "    grid_d_c = griddata(np.stack((Nden,U_val),axis=1),dD_dT,(N_mesh,U_mesh),method = 'cubic')\n",
    "    cm = matplotlib.colormaps.get_cmap('seismic')\n",
    "\n",
    "\n",
    "    x =  [1.00025598, 1.01911849, 1.02814563, 1.037981,1.05242246, 1.05684351, 1.06216469, 1.06639886, 1.06462619, 1.06394055,1.06252343, 1.05838936, 1.05879009, 1.0587525,  1.05720948, 1.05684351,1.05362816, 1.04951315, 1.04681331, 1.04503918]\n",
    "    y =  [3.81093802, 3.85029121, 3.90909091, 3.98976572, 4.27272727, 4.40826698, 4.63636364, 5.0, 5.36363636, 5.72727273, 6.09090909,6.45454545,6.81818182,7.18181818,7.54545455,7.60445839,7.90909091,8.27272727,8.63636364,9.0]    \n",
    "    plt.figure(figsize = (25,20))\n",
    "    ax = plt.gca()\n",
    "    plt.xticks([1.0,1.1,1.2,1.3,1.4],fontsize = 80)\n",
    "    plt.yticks(fontsize = 80)\n",
    "    im = plt.contourf(N_mesh,U_mesh,grid_d_c,np.arange(-0.05, 0.05, .0025),extend='both',cmap = cm)\n",
    "    plt.xlim(1.0,1.4)\n",
    "    #plt.ylim(0.5,1.0)\n",
    "    plt.grid('True',which = 'both')\n",
    "    CS_2 = ax.contour(N_mesh,U_mesh,grid_d_c, [0.0], colors = ['black'], linestyles = ['dashdot'],linewidths = [5])\n",
    "    #plt.plot(x,y,linestyle = 'dashed', color = 'yellow', linewidth=5)\n",
    "    divider = make_axes_locatable(ax)\n",
    "    cax = divider.append_axes(\"right\", size=\"5%\", pad=0.05)\n",
    "    cbar = plt.colorbar(im, cax= cax)\n",
    "    cbar.ax.tick_params(labelsize = 60)\n",
    "    plt.tight_layout()\n",
    "    plt.savefig(\"%s/Doublon_derivative_N_%s_dtau_%s_L_%s.png\"%(Graph_dir,N,dtau,trot))\n",
    "    plt.close()\n",
    "\n",
    "    \n",
    "    dat0= CS_2.allsegs[0][0]\n",
    "    plt.figure()\n",
    "    plt.plot(dat0[:,0],dat0[:,1])\n",
    "    plt.show()\n",
    "    print(\"x\",dat0[:,0])\n",
    "    print(\"y\",dat0[:,1])\n",
    "\n",
    "\n"
   ]
  },
  {
   "cell_type": "code",
   "execution_count": 3,
   "id": "207c1434",
   "metadata": {},
   "outputs": [],
   "source": [
    "def main():\n",
    "\n",
    "    N = \"10\"\n",
    "    Dtau = \"0.05\"\n",
    "\n",
    "    U=[\"1.0\",\"2.0\",\"3.0\",\"4.0\",\"5.0\",\"6.0\",\"7.0\",\"8.0\",\"9.0\"]\n",
    "    Mu = [\"-0.20\",\"0.00\",\"0.20\",\"0.40\",\"0.60\",\"0.80\",\"1.00\",\"1.20\",\"1.40\",\"1.60\",\"1.80\",\"2.00\",\"2.50\",\"3.00\",\"3.50\",\"4.00\",\"4.50\",\"5.00\",\"5.50\",\"6.00\",\"6.50\",\"7.00\",\n",
    "          \"7.50\",\"8.00\",\"8.50\",\"9.00\",\"9.50\",\"10.00\"]\n",
    "    Trot = [\"30\"] \n",
    "    Text_dir_main = '/Users/roy.369/Documents/Cold_atom_correlators/FHM_Legacy_data/FHM_Roy_data/Text_files/Text_files_N_%s_doublon_number'%N\n",
    "\n",
    "    Graph_dir = '/Users/roy.369/Documents/Cold_atom_correlators/FHM_Legacy_data/FHM_Roy_data/Graphs/Graphs_N_%s/Graphs_N_%s_dtau_%s_doublon'%(N,N,Dtau)\n",
    "    if not os.path.exists(Graph_dir):\n",
    "        os.makedirs(Graph_dir)\n",
    "\n",
    "    for k in range(len(Trot)):\n",
    "        doublon_contour_plots(Text_dir_main,Graph_dir,N,U,Dtau,Trot[k])\n",
    "    \n",
    "\n"
   ]
  },
  {
   "cell_type": "code",
   "execution_count": 4,
   "id": "6368f550",
   "metadata": {
    "scrolled": true
   },
   "outputs": [
    {
     "data": {
      "image/png": "[encoded data removed]",
      "text/plain": [
       "<Figure size 640x480 with 1 Axes>"
      ]
     },
     "metadata": {},
     "output_type": "display_data"
    },
    {
     "name": "stdout",
     "output_type": "stream",
     "text": [
      "x [1.         1.01441794 1.02380879 1.04761757 1.07142636 1.07775516\n",
      " 1.09523514 1.10417806 1.11904393 1.11991036 1.12824611 1.13439694\n",
      " 1.13797111 1.1394181  1.13989314 1.14091587]\n",
      "y [3.78693663 3.85714286 3.89057438 4.04759347 4.30399254 4.42857143\n",
      " 4.7445233  5.         5.5267226  5.57142857 6.14285714 6.71428571\n",
      " 7.28571429 7.85714286 8.42857143 9.        ]\n"
     ]
    }
   ],
   "source": [
    "main()"
   ]
  },
  {
   "cell_type": "code",
   "execution_count": null,
   "id": "41efbc56-4f81-4f9b-80a6-d7cb0c57d551",
   "metadata": {},
   "outputs": [],
   "source": []
  },
  {
   "cell_type": "code",
   "execution_count": null,
   "id": "62db78d7-0d5a-403d-a7ed-e9be0d94fdf9",
   "metadata": {},
   "outputs": [],
   "source": []
  },
  {
   "cell_type": "code",
   "execution_count": null,
   "id": "6d8093c1-86fd-4e9c-88f0-020bb3d71ec3",
   "metadata": {},
   "outputs": [],
   "source": []
  }
 ],
 "metadata": {
  "kernelspec": {
   "display_name": "Python 3 (ipykernel)",
   "language": "python",
   "name": "python3"
  },
  "language_info": {
   "codemirror_mode": {
    "name": "ipython",
    "version": 3
   },
   "file_extension": ".py",
   "mimetype": "text/x-python",
   "name": "python",
   "nbconvert_exporter": "python",
   "pygments_lexer": "ipython3",
   "version": "3.11.7"
  }
 },
 "nbformat": 4,
 "nbformat_minor": 5
}
