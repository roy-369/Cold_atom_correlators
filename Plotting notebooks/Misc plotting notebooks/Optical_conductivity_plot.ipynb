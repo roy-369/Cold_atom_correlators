{
 "cells": [
  {
   "cell_type": "code",
   "execution_count": 2,
   "id": "a956180e-8c7e-40e4-989d-68c67e75bbac",
   "metadata": {},
   "outputs": [],
   "source": [
    "import numpy as np\n",
    "import pickle\n",
    "import matplotlib as mpl\n",
    "import matplotlib.pyplot as plt\n",
    "import os\n",
    "import sys\n",
    "from scipy.interpolate import griddata\n",
    "from mpl_toolkits.axes_grid1 import make_axes_locatable\n",
    "import matplotlib.colorbar\n",
    "from matplotlib import rc\n",
    "from scipy.optimize import fsolve\n",
    "from scipy.integrate import simpson\n",
    "from numpy import trapz\n",
    "from numpy.polynomial.polynomial import polyfit\n",
    "from scipy import integrate\n",
    "from scipy.interpolate import CubicSpline\n",
    "from sklearn.metrics import r2_score\n",
    "from matplotlib.pyplot import cm"
   ]
  },
  {
   "cell_type": "code",
   "execution_count": 3,
   "id": "16067520-538e-4f56-bda5-021c4b413228",
   "metadata": {},
   "outputs": [
    {
     "ename": "SyntaxError",
     "evalue": "unmatched ')' (1853468863.py, line 22)",
     "output_type": "error",
     "traceback": [
      "\u001b[0;36m  Cell \u001b[0;32mIn[3], line 22\u001b[0;36m\u001b[0m\n\u001b[0;31m    filename_cond_ac_gaus = \"%s/Conductivity_momentum_space_avg_N_%s_U_%s_mu_%s_dtau_%s_L_%s_k_label_0_gaussian_sigma_%s_nfreq_%s_omega_max_%s_omega_min_%s.dat\"%(Text_dir_cond_k,N,U[i],mu,dtau,Trot[j],sigma,str(freq_no),omega_max,omega_min))\u001b[0m\n\u001b[0m                                                                                                                                                                                                                                                ^\u001b[0m\n\u001b[0;31mSyntaxError\u001b[0m\u001b[0;31m:\u001b[0m unmatched ')'\n"
     ]
    }
   ],
   "source": [
    "def dc_conductivity_plot(Text_dir_curr_k_avg_ac_main,Graph_dir,sigma,freq_no,N,U,Mu,Trot,dtau,omega_max,omega_min):\n",
    "\n",
    "   T_val = np.zeros(len(Trot))\n",
    "    \n",
    "   Nden = np.zeros((len(Trot),7))\n",
    "   Nden_std = np.zeros((len(Trot),7))\n",
    "   Sigma_dc = np.zeros((len(Trot),7))\n",
    "\n",
    "   for j in range(len(Trot)):\n",
    "\n",
    "       T_val[j] = 1/(float(dtau)*float(Trot[j]))\n",
    "\n",
    "       plt.figure(figsize = (25,20))\n",
    "       plt.xticks(fontsize = 40)\n",
    "       plt.yticks(fontsize = 40)\n",
    "       plt.xlabel(r\"$\\omega$\",fontsize = 40)\n",
    "       plt.ylabel(r\"$\\sigma(\\omega)$\",fontsize = 40)\n",
    "       \n",
    "       for i in range(len(U)):\n",
    "\n",
    "           Text_dir_cond_k = \"%s/Text_files_N_%s_U_%s_dtau_%s/Mu_%s/dtau_%s_L_%s/Current_correlation_functions_analytic_continued_gaussian_sigma_%s_nfreq_%s/k_point_0\"%(Text_dir_curr_k_avg_ac_main,N,U[i],dtau,Mu,dtau,Trot[j],sigma,freq_no)\n",
    "           filename_cond_ac_gaus = \"%s/Conductivity_momentum_space_avg_N_%s_U_%s_mu_%s_dtau_%s_L_%s_k_label_0_gaussian_sigma_%s_nfreq_%s_omega_max_%s_omega_min_%s.dat\"%(Text_dir_cond_k,N,U[i],mu,dtau,Trot[j],sigma,str(freq_no),omega_max,omega_min))\n",
    "           omega,cond_k0 = np.loadtxt(filename_cond_ac_gaus,unpack = 'True',usecols = [0,1])\n",
    "           plt.plot(omega,cond_k0, marker = \"^\", markersize = 15, U=\"%s\"%U[i])\n",
    "    \n",
    "       plt.tight_layout()\n",
    "       plt.legend(loc = 'best',fontsize = 40)\n",
    "       plt.grid(True,which='both')\n",
    "       plt.savefig(\"%s/Optical_conductivity_gaussian_default_model_sigma_%s_N_%s_mu_%s_dtau_%s_L_%s.png\"%(Graph_dir,mu,dtau,Trot[j]))\n",
    "\n",
    "\n"
   ]
  },
  {
   "cell_type": "code",
   "execution_count": 4,
   "id": "c71f3e19-f973-4eb6-8bf9-f0184b6e83d9",
   "metadata": {},
   "outputs": [],
   "source": [
    "def main():\n",
    "\n",
    "    N = 16\n",
    "    U = [\"3.20\",\"3.30\",\"3.40\",\"3.50\",\"3.60\",\"3.70\",\"3.80\",\"3.90\",\"4.00\",\"4.10\",\"4.20\",\"4.30\",\\\n",
    "         \"4.40\",\"4.50\",\"4.60\",\"4.70\",\"4.80\",\"4.90\",\"5.00\",\"5.10\",\"5.30\",\"5.40\",\"5.50\",\"5.60\",\"5.70\",\"6.00\"]\n",
    "    Mu = \"0.00\"\n",
    "    Trot = [\"20\",\"30\",\"40\"]\n",
    "    \n",
    "    Dtau = \"0.05\"\n",
    "    Omega_max = \"30.0\"\n",
    "    Omega_min = \"-30.0\"\n",
    "    Freq_no = 6000\n",
    "    domega = (float(Omega_max)-float(Omega_min))/Freq_no\n",
    "    Sigma = \"2.0\"\n",
    "\n",
    "\n",
    "    \n",
    "    Text_dir_cond_k_ac_main = \"/Users/roy.369/Documents/Cold_atom_correlators/Text_files_N_%s_analytic_continuation_current_correlations\"%N\n",
    "    Graph_dir_cond = \"/Users/roy.369/Documents/Cold_atom_correlators/Maxent_conductivity_gaussian_default_model\"%N\n",
    "    if not os.path.exists(Graph_dir_main_sig):\n",
    "       os.makedirs(Graph_dir_main_sig)\n",
    "\n",
    "    dc_conductivity_plot(Text_dir_cond_k_ac_main,Graph_dir_cond,sigma,Freq_no,N,U,Mu,Trot,dtau,omega_max,omega_min)\n",
    "\n",
    "\n",
    "    "
   ]
  },
  {
   "cell_type": "code",
   "execution_count": null,
   "id": "13b60244-7e5f-4067-aee2-9ce8fd60cc81",
   "metadata": {},
   "outputs": [],
   "source": []
  }
 ],
 "metadata": {
  "kernelspec": {
   "display_name": "Python 3 (ipykernel)",
   "language": "python",
   "name": "python3"
  },
  "language_info": {
   "codemirror_mode": {
    "name": "ipython",
    "version": 3
   },
   "file_extension": ".py",
   "mimetype": "text/x-python",
   "name": "python",
   "nbconvert_exporter": "python",
   "pygments_lexer": "ipython3",
   "version": "3.11.7"
  }
 },
 "nbformat": 4,
 "nbformat_minor": 5
}
