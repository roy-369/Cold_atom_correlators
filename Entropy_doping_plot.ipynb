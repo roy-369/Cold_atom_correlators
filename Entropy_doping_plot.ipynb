{
 "cells": [
  {
   "cell_type": "code",
   "execution_count": 89,
   "id": "dcdc8151",
   "metadata": {},
   "outputs": [],
   "source": [
    "import numpy as np\n",
    "import matplotlib.pyplot as plt\n",
    "import matplotlib as mpl\n",
    "import matplotlib.pyplot as plt\n",
    "import os\n",
    "import sys\n",
    "from scipy.interpolate import griddata\n",
    "from mpl_toolkits.axes_grid1 import make_axes_locatable\n",
    "import matplotlib.colorbar\n",
    "from matplotlib import rc\n",
    "from scipy.optimize import fsolve\n",
    "from scipy.integrate import simpson\n",
    "from numpy import trapz\n",
    "from numpy.polynomial.polynomial import polyfit\n",
    "from scipy import integrate\n",
    "mpl.rcParams['axes.linewidth'] = 3\n",
    "import matplotlib as mpl  \n",
    "\n",
    "plt.rcParams[\"font.family\"] = \"Times New Roman\"\n"
   ]
  },
  {
   "cell_type": "code",
   "execution_count": 90,
   "id": "d03c9b53",
   "metadata": {},
   "outputs": [],
   "source": [
    "def entropy_contour_plots(Text_dir_doublon,Graph_dir,N,U,dtau,trot):\n",
    "    \n",
    "    filename_entropy = \"%s/Text_files_N_%s_U_%s_dtau_%s/Thermodynamic_entropy_N_%s_U_%s_dtau_%s_L_%s.dat\"%(Text_dir_doublon,N,U[0],dtau,N,U[0],dtau,trot)\n",
    "    nden,ent,ent_std = np.loadtxt(filename_entropy,unpack = 'True',usecols = [1,3,4])\n",
    "\n",
    "\n",
    "    Ent = np.zeros(len(nden)*(len(U)))      #dkappa_dT.tolist()\n",
    "    Ent_std = np.zeros(len(nden)*(len(U)))  #dkappa_dT_std.tolist()\n",
    "    dD_dT = np.zeros(len(nden)*(len(U)))\n",
    "    dD_dT_std = np.zeros(len(nden)*(len(U)))\n",
    "    U_val = np.zeros(len(nden)*(len(U)))      #T.tolist()\n",
    "    Nden = np.zeros(len(nden)*(len(U)))      #[float(U[0])*x for x in [1]*len(Trot)]\n",
    "    n_len = len(nden)\n",
    "\n",
    "    for k in range(len(U)):\n",
    "        #print(\"Trot\",Trot[k])\n",
    "        print(U[k])\n",
    "        start_ind = k*n_len\n",
    "        end_ind = (k+1)*n_len\n",
    "        \n",
    "        filename_entropy = \"%s/Text_files_N_%s_U_%s_dtau_%s/Thermodynamic_entropy_N_%s_U_%s_dtau_%s_L_%s.dat\"%(Text_dir_doublon,N,U[k],dtau,N,U[k],dtau,trot)\n",
    "        num_den,ent,ent_std = np.loadtxt(filename_entropy,unpack = 'True',usecols = [1,3,4])\n",
    "        Nden[start_ind:end_ind] = np.copy(num_den)\n",
    "        Ent[start_ind:end_ind] = np.copy(ent)\n",
    "        Ent_std[start_ind:end_ind] = np.copy(ent_std) \n",
    "        \n",
    "    #x =  [1.0,1.01441794,1.02380879,1.04761757,1.07142636,1.07775516,1.09523514,1.10417806,1.11904393,1.11991036,1.12824611,1.13439694,1.13797111,1.1394181,1.13989314,1.14091587]\n",
    "    #y = [3.78693663, 3.85714286, 3.89057438, 4.04759347, 4.30399254, 4.42857143, 4.7445233,5.0,5.5267226,5.57142857,6.14285714,6.71428571,7.28571429,7.85714286,8.42857143,9]\n",
    "    #print(T_val)\n",
    "    N_grid = np.linspace(np.nanmin(Nden),np.nanmax(Nden),num = 2*n_len+1)\n",
    "    U_grid = np.linspace(np.nanmin(U_val),np.nanmax(U_val),num=2*(len(U)-2)+1)\n",
    "    N_mesh,U_mesh = np.meshgrid(N_grid,U_grid,indexing = 'xy')\n",
    "    #grid_d_c = griddata(np.stack((Nden,U_val),axis=1),dD_dT,(N_mesh,U_mesh),method = 'cubic')\n",
    "    grid_e_c = griddata(np.stack((Nden,U_val),axis=1),Ent,(N_mesh,U_mesh),method = 'cubic')\n",
    "    cm = matplotlib.colormaps.get_cmap('seismic')\n",
    "\n",
    "    plt.figure(figsize = (30,20))\n",
    "    ax = plt.gca()\n",
    "    plt.xticks([1.0,1.1,1.2,1.3,1.4],fontsize = 80)\n",
    "    plt.yticks(fontsize = 80)\n",
    "    im = plt.contourf(N_mesh,U_mesh,grid_e_c,levels=50,cmap = cm)\n",
    "    plt.xlim(1.0,1.4)\n",
    "    #plt.ylim(0.5,1.0)\n",
    "    plt.grid('True',which = 'both')\n",
    "    plt.plot(x,y,color = 'black',linewidth=3,linestyles = 'dashdot') \n",
    "    #CS_2 = ax.contour(N_mesh,U_mesh,grid_d_c, [0.0], colors = ['black'], linestyles = ['dashdot'],linewidths = [5])\n",
    "    divider = make_axes_locatable(ax)\n",
    "    cax = divider.append_axes(\"right\", size=\"5%\", pad=0.05)\n",
    "    cbar = plt.colorbar(im, cax= cax)\n",
    "    cbar.ax.tick_params(labelsize = 60)\n",
    "    plt.tight_layout()\n",
    "    plt.savefig(\"%s/Entropy_N_%s_dtau_%s_L_%s.png\"%(Graph_dir,N,dtau,trot))\n",
    "\n"
   ]
  },
  {
   "cell_type": "code",
   "execution_count": 91,
   "id": "207c1434",
   "metadata": {},
   "outputs": [],
   "source": [
    "def main():\n",
    "\n",
    "    N = \"10\"\n",
    "    Dtau = \"0.05\"\n",
    "\n",
    "    U=[\"1.0\",\"2.0\",\"3.0\",\"4.0\",\"5.0\",\"6.0\",\"7.0\",\"8.0\",\"9.0\"]\n",
    "    Mu = [\"-0.20\",\"0.00\",\"0.20\",\"0.40\",\"0.60\",\"0.80\",\"1.00\",\"1.20\",\"1.40\",\"1.60\",\"1.80\",\"2.00\",\"2.50\",\"3.00\",\"3.50\",\"4.00\",\"4.50\",\"5.00\",\"5.50\",\"6.00\",\"6.50\",\"7.00\",\n",
    "          \"7.50\",\"8.00\",\"8.50\",\"9.00\",\"9.50\",\"10.00\"]\n",
    "    Trot = [\"30\"] \n",
    "    Text_dir_main = '/Users/roy.369/Documents/Cold_atom_correlators/FHM_Legacy_data/FHM_Roy_data/Text_files/Text_files_N_%s_thermodynamic_entropy_seebeck/'%N\n",
    "\n",
    "    Graph_dir = '/Users/roy.369/Documents/Cold_atom_correlators/FHM_Legacy_data/FHM_Roy_data/Graphs/Graphs_N_%s/Graphs_N_%s_dtau_%s_entropy'%(N,N,Dtau)\n",
    "    if not os.path.exists(Graph_dir):\n",
    "        os.makedirs(Graph_dir)\n",
    "\n",
    "    for k in range(len(Trot)):\n",
    "        entropy_contour_plots(Text_dir_main,Graph_dir,N,U,Dtau,Trot[k])\n",
    "    \n",
    "\n"
   ]
  },
  {
   "cell_type": "code",
   "execution_count": 92,
   "id": "6368f550",
   "metadata": {
    "scrolled": true
   },
   "outputs": [
    {
     "name": "stdout",
     "output_type": "stream",
     "text": [
      "1.0\n",
      "2.0\n",
      "3.0\n",
      "4.0\n",
      "5.0\n",
      "6.0\n",
      "7.0\n",
      "8.0\n",
      "9.0\n"
     ]
    },
    {
     "ename": "QhullError",
     "evalue": "QH6154 Qhull precision error: Initial simplex is flat (facet 1 is coplanar with the interior point)\n\nWhile executing:  | qhull d Qz Q12 Qbb Qt Qc\nOptions selected for Qhull 2019.1.r 2019/06/21:\n  run-id 1275806163  delaunay  Qz-infinity-point  Q12-allow-wide  Qbbound-last\n  Qtriangulate  Qcoplanar-keep  _pre-merge  _zero-centrum  Qinterior-keep\n  Pgood  _max-width  2  Error-roundoff 2.8e-15  _one-merge 1.9e-14\n  Visible-distance 5.5e-15  U-max-coplanar 5.5e-15  Width-outside 1.1e-14\n  _wide-facet 3.3e-14  _maxoutside 2.2e-14\n\nThe input to qhull appears to be less than 3 dimensional, or a\ncomputation has overflowed.\n\nQhull could not construct a clearly convex simplex from points:\n- p1(v4): 0.00014     0 6.7e-09\n- p360(v3):     1     0     2\n- p39(v2):     2     0   1.8\n- p0(v1): 6.5e-05     0     0\n\nThe center point is coplanar with a facet, or a vertex is coplanar\nwith a neighboring facet.  The maximum round off error for\ncomputing distances is 2.8e-15.  The center point, facets and distances\nto the center point are as follows:\n\ncenter point   0.7563        0   0.9545\n\nfacet p360 p39 p0 distance=    0\nfacet p1 p39 p0 distance=    0\nfacet p1 p360 p0 distance=    0\nfacet p1 p360 p39 distance=    0\n\nThese points either have a maximum or minimum x-coordinate, or\nthey maximize the determinant for k coordinates.  Trial points\nare first selected from points that maximize a coordinate.\n\nThe min and max coordinates for each dimension are:\n  0:   6.5e-05         2  difference=    2\n  1:         0         0  difference=    0\n  2:         0         2  difference=    2\n\nIf the input should be full dimensional, you have several options that\nmay determine an initial simplex:\n  - use 'QJ'  to joggle the input and make it full dimensional\n  - use 'QbB' to scale the points to the unit cube\n  - use 'QR0' to randomly rotate the input for different maximum points\n  - use 'Qs'  to search all points for the initial simplex\n  - use 'En'  to specify a maximum roundoff error less than 2.8e-15.\n  - trace execution with 'T3' to see the determinant for each point.\n\nIf the input is lower dimensional:\n  - use 'QJ' to joggle the input and make it full dimensional\n  - use 'Qbk:0Bk:0' to delete coordinate k from the input.  You should\n    pick the coordinate with the least range.  The hull will have the\n    correct topology.\n  - determine the flat containing the points, rotate the points\n    into a coordinate plane, and delete the other coordinates.\n  - add one or more points to make the input full dimensional.\n",
     "output_type": "error",
     "traceback": [
      "\u001b[0;31m---------------------------------------------------------------------------\u001b[0m",
      "\u001b[0;31mQhullError\u001b[0m                                Traceback (most recent call last)",
      "Cell \u001b[0;32mIn[92], line 1\u001b[0m\n\u001b[0;32m----> 1\u001b[0m main()\n",
      "Cell \u001b[0;32mIn[91], line 17\u001b[0m, in \u001b[0;36mmain\u001b[0;34m()\u001b[0m\n\u001b[1;32m     14\u001b[0m     os\u001b[38;5;241m.\u001b[39mmakedirs(Graph_dir)\n\u001b[1;32m     16\u001b[0m \u001b[38;5;28;01mfor\u001b[39;00m k \u001b[38;5;129;01min\u001b[39;00m \u001b[38;5;28mrange\u001b[39m(\u001b[38;5;28mlen\u001b[39m(Trot)):\n\u001b[0;32m---> 17\u001b[0m     entropy_contour_plots(Text_dir_main,Graph_dir,N,U,Dtau,Trot[k])\n",
      "Cell \u001b[0;32mIn[90], line 34\u001b[0m, in \u001b[0;36mentropy_contour_plots\u001b[0;34m(Text_dir_doublon, Graph_dir, N, U, dtau, trot)\u001b[0m\n\u001b[1;32m     32\u001b[0m N_mesh,U_mesh \u001b[38;5;241m=\u001b[39m np\u001b[38;5;241m.\u001b[39mmeshgrid(N_grid,U_grid,indexing \u001b[38;5;241m=\u001b[39m \u001b[38;5;124m'\u001b[39m\u001b[38;5;124mxy\u001b[39m\u001b[38;5;124m'\u001b[39m)\n\u001b[1;32m     33\u001b[0m \u001b[38;5;66;03m#grid_d_c = griddata(np.stack((Nden,U_val),axis=1),dD_dT,(N_mesh,U_mesh),method = 'cubic')\u001b[39;00m\n\u001b[0;32m---> 34\u001b[0m grid_e_c \u001b[38;5;241m=\u001b[39m griddata(np\u001b[38;5;241m.\u001b[39mstack((Nden,U_val),axis\u001b[38;5;241m=\u001b[39m\u001b[38;5;241m1\u001b[39m),Ent,(N_mesh,U_mesh),method \u001b[38;5;241m=\u001b[39m \u001b[38;5;124m'\u001b[39m\u001b[38;5;124mcubic\u001b[39m\u001b[38;5;124m'\u001b[39m)\n\u001b[1;32m     35\u001b[0m cm \u001b[38;5;241m=\u001b[39m matplotlib\u001b[38;5;241m.\u001b[39mcolormaps\u001b[38;5;241m.\u001b[39mget_cmap(\u001b[38;5;124m'\u001b[39m\u001b[38;5;124mseismic\u001b[39m\u001b[38;5;124m'\u001b[39m)\n\u001b[1;32m     37\u001b[0m plt\u001b[38;5;241m.\u001b[39mfigure(figsize \u001b[38;5;241m=\u001b[39m (\u001b[38;5;241m30\u001b[39m,\u001b[38;5;241m20\u001b[39m))\n",
      "File \u001b[0;32m/opt/anaconda3/lib/python3.11/site-packages/scipy/interpolate/_ndgriddata.py:277\u001b[0m, in \u001b[0;36mgriddata\u001b[0;34m(points, values, xi, method, fill_value, rescale)\u001b[0m\n\u001b[1;32m    275\u001b[0m     \u001b[38;5;28;01mreturn\u001b[39;00m ip(xi)\n\u001b[1;32m    276\u001b[0m \u001b[38;5;28;01melif\u001b[39;00m method \u001b[38;5;241m==\u001b[39m \u001b[38;5;124m'\u001b[39m\u001b[38;5;124mcubic\u001b[39m\u001b[38;5;124m'\u001b[39m \u001b[38;5;129;01mand\u001b[39;00m ndim \u001b[38;5;241m==\u001b[39m \u001b[38;5;241m2\u001b[39m:\n\u001b[0;32m--> 277\u001b[0m     ip \u001b[38;5;241m=\u001b[39m CloughTocher2DInterpolator(points, values, fill_value\u001b[38;5;241m=\u001b[39mfill_value,\n\u001b[1;32m    278\u001b[0m                                     rescale\u001b[38;5;241m=\u001b[39mrescale)\n\u001b[1;32m    279\u001b[0m     \u001b[38;5;28;01mreturn\u001b[39;00m ip(xi)\n\u001b[1;32m    280\u001b[0m \u001b[38;5;28;01melse\u001b[39;00m:\n",
      "File \u001b[0;32minterpnd.pyx:915\u001b[0m, in \u001b[0;36mscipy.interpolate.interpnd.CloughTocher2DInterpolator.__init__\u001b[0;34m()\u001b[0m\n",
      "File \u001b[0;32m_qhull.pyx:1827\u001b[0m, in \u001b[0;36mscipy.spatial._qhull.Delaunay.__init__\u001b[0;34m()\u001b[0m\n",
      "File \u001b[0;32m_qhull.pyx:353\u001b[0m, in \u001b[0;36mscipy.spatial._qhull._Qhull.__init__\u001b[0;34m()\u001b[0m\n",
      "\u001b[0;31mQhullError\u001b[0m: QH6154 Qhull precision error: Initial simplex is flat (facet 1 is coplanar with the interior point)\n\nWhile executing:  | qhull d Qz Q12 Qbb Qt Qc\nOptions selected for Qhull 2019.1.r 2019/06/21:\n  run-id 1275806163  delaunay  Qz-infinity-point  Q12-allow-wide  Qbbound-last\n  Qtriangulate  Qcoplanar-keep  _pre-merge  _zero-centrum  Qinterior-keep\n  Pgood  _max-width  2  Error-roundoff 2.8e-15  _one-merge 1.9e-14\n  Visible-distance 5.5e-15  U-max-coplanar 5.5e-15  Width-outside 1.1e-14\n  _wide-facet 3.3e-14  _maxoutside 2.2e-14\n\nThe input to qhull appears to be less than 3 dimensional, or a\ncomputation has overflowed.\n\nQhull could not construct a clearly convex simplex from points:\n- p1(v4): 0.00014     0 6.7e-09\n- p360(v3):     1     0     2\n- p39(v2):     2     0   1.8\n- p0(v1): 6.5e-05     0     0\n\nThe center point is coplanar with a facet, or a vertex is coplanar\nwith a neighboring facet.  The maximum round off error for\ncomputing distances is 2.8e-15.  The center point, facets and distances\nto the center point are as follows:\n\ncenter point   0.7563        0   0.9545\n\nfacet p360 p39 p0 distance=    0\nfacet p1 p39 p0 distance=    0\nfacet p1 p360 p0 distance=    0\nfacet p1 p360 p39 distance=    0\n\nThese points either have a maximum or minimum x-coordinate, or\nthey maximize the determinant for k coordinates.  Trial points\nare first selected from points that maximize a coordinate.\n\nThe min and max coordinates for each dimension are:\n  0:   6.5e-05         2  difference=    2\n  1:         0         0  difference=    0\n  2:         0         2  difference=    2\n\nIf the input should be full dimensional, you have several options that\nmay determine an initial simplex:\n  - use 'QJ'  to joggle the input and make it full dimensional\n  - use 'QbB' to scale the points to the unit cube\n  - use 'QR0' to randomly rotate the input for different maximum points\n  - use 'Qs'  to search all points for the initial simplex\n  - use 'En'  to specify a maximum roundoff error less than 2.8e-15.\n  - trace execution with 'T3' to see the determinant for each point.\n\nIf the input is lower dimensional:\n  - use 'QJ' to joggle the input and make it full dimensional\n  - use 'Qbk:0Bk:0' to delete coordinate k from the input.  You should\n    pick the coordinate with the least range.  The hull will have the\n    correct topology.\n  - determine the flat containing the points, rotate the points\n    into a coordinate plane, and delete the other coordinates.\n  - add one or more points to make the input full dimensional.\n"
     ]
    }
   ],
   "source": [
    "main()"
   ]
  },
  {
   "cell_type": "code",
   "execution_count": null,
   "id": "41efbc56-4f81-4f9b-80a6-d7cb0c57d551",
   "metadata": {},
   "outputs": [],
   "source": []
  }
 ],
 "metadata": {
  "kernelspec": {
   "display_name": "Python 3 (ipykernel)",
   "language": "python",
   "name": "python3"
  },
  "language_info": {
   "codemirror_mode": {
    "name": "ipython",
    "version": 3
   },
   "file_extension": ".py",
   "mimetype": "text/x-python",
   "name": "python",
   "nbconvert_exporter": "python",
   "pygments_lexer": "ipython3",
   "version": "3.11.7"
  }
 },
 "nbformat": 4,
 "nbformat_minor": 5
}
